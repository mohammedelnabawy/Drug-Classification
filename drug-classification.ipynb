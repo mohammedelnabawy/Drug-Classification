{
 "cells": [
  {
   "cell_type": "markdown",
   "id": "f555a6f8",
   "metadata": {
    "papermill": {
     "duration": 0.050909,
     "end_time": "2021-10-01T20:31:34.790487",
     "exception": false,
     "start_time": "2021-10-01T20:31:34.739578",
     "status": "completed"
    },
    "tags": []
   },
   "source": [
    "# **Importing libraries**"
   ]
  },
  {
   "cell_type": "code",
   "execution_count": 1,
   "id": "f58e10b8",
   "metadata": {
    "_cell_guid": "b1076dfc-b9ad-4769-8c92-a6c4dae69d19",
    "_uuid": "8f2839f25d086af736a60e9eeb907d3b93b6e0e5",
    "execution": {
     "iopub.execute_input": "2021-10-01T20:31:34.905738Z",
     "iopub.status.busy": "2021-10-01T20:31:34.905038Z",
     "iopub.status.idle": "2021-10-01T20:31:36.196863Z",
     "shell.execute_reply": "2021-10-01T20:31:36.197859Z",
     "shell.execute_reply.started": "2021-10-01T20:26:45.592359Z"
    },
    "papermill": {
     "duration": 1.357353,
     "end_time": "2021-10-01T20:31:36.198179",
     "exception": false,
     "start_time": "2021-10-01T20:31:34.840826",
     "status": "completed"
    },
    "tags": []
   },
   "outputs": [],
   "source": [
    "from sklearn.linear_model import LogisticRegression\n",
    "from sklearn.svm import SVC\n",
    "from sklearn.tree import DecisionTreeClassifier\n",
    "from sklearn.ensemble import RandomForestClassifier\n",
    "from sklearn.neighbors import KNeighborsClassifier\n",
    "import pandas as pd\n",
    "import numpy as np\n",
    "import seaborn as sns\n",
    "import matplotlib.pyplot as plt\n",
    "%matplotlib inline\n",
    "from sklearn.model_selection import train_test_split\n",
    "from sklearn.preprocessing import PolynomialFeatures, StandardScaler\n",
    "from sklearn.metrics import confusion_matrix, accuracy_score, classification_report\n",
    "from warnings import filterwarnings\n",
    "filterwarnings('ignore')"
   ]
  },
  {
   "cell_type": "markdown",
   "id": "94cc862b",
   "metadata": {
    "papermill": {
     "duration": 0.049444,
     "end_time": "2021-10-01T20:31:36.302984",
     "exception": false,
     "start_time": "2021-10-01T20:31:36.253540",
     "status": "completed"
    },
    "tags": []
   },
   "source": [
    "# **loading Data**"
   ]
  },
  {
   "cell_type": "code",
   "execution_count": 2,
   "id": "892fcb25",
   "metadata": {
    "execution": {
     "iopub.execute_input": "2021-10-01T20:31:36.418433Z",
     "iopub.status.busy": "2021-10-01T20:31:36.417460Z",
     "iopub.status.idle": "2021-10-01T20:31:36.446161Z",
     "shell.execute_reply": "2021-10-01T20:31:36.446743Z",
     "shell.execute_reply.started": "2021-10-01T20:26:47.684592Z"
    },
    "papermill": {
     "duration": 0.083161,
     "end_time": "2021-10-01T20:31:36.446923",
     "exception": false,
     "start_time": "2021-10-01T20:31:36.363762",
     "status": "completed"
    },
    "tags": []
   },
   "outputs": [],
   "source": [
    "data = pd.read_csv('../input/drug-classification/drug200.csv')"
   ]
  },
  {
   "cell_type": "code",
   "execution_count": 3,
   "id": "5b358bdc",
   "metadata": {
    "execution": {
     "iopub.execute_input": "2021-10-01T20:31:36.555392Z",
     "iopub.status.busy": "2021-10-01T20:31:36.554396Z",
     "iopub.status.idle": "2021-10-01T20:31:36.570116Z",
     "shell.execute_reply": "2021-10-01T20:31:36.570650Z",
     "shell.execute_reply.started": "2021-10-01T20:26:48.516547Z"
    },
    "papermill": {
     "duration": 0.074927,
     "end_time": "2021-10-01T20:31:36.570825",
     "exception": false,
     "start_time": "2021-10-01T20:31:36.495898",
     "status": "completed"
    },
    "tags": []
   },
   "outputs": [
    {
     "data": {
      "text/html": [
       "<div>\n",
       "<style scoped>\n",
       "    .dataframe tbody tr th:only-of-type {\n",
       "        vertical-align: middle;\n",
       "    }\n",
       "\n",
       "    .dataframe tbody tr th {\n",
       "        vertical-align: top;\n",
       "    }\n",
       "\n",
       "    .dataframe thead th {\n",
       "        text-align: right;\n",
       "    }\n",
       "</style>\n",
       "<table border=\"1\" class=\"dataframe\">\n",
       "  <thead>\n",
       "    <tr style=\"text-align: right;\">\n",
       "      <th></th>\n",
       "      <th>Age</th>\n",
       "      <th>Sex</th>\n",
       "      <th>BP</th>\n",
       "      <th>Cholesterol</th>\n",
       "      <th>Na_to_K</th>\n",
       "      <th>Drug</th>\n",
       "    </tr>\n",
       "  </thead>\n",
       "  <tbody>\n",
       "    <tr>\n",
       "      <th>0</th>\n",
       "      <td>23</td>\n",
       "      <td>F</td>\n",
       "      <td>HIGH</td>\n",
       "      <td>HIGH</td>\n",
       "      <td>25.355</td>\n",
       "      <td>DrugY</td>\n",
       "    </tr>\n",
       "    <tr>\n",
       "      <th>1</th>\n",
       "      <td>47</td>\n",
       "      <td>M</td>\n",
       "      <td>LOW</td>\n",
       "      <td>HIGH</td>\n",
       "      <td>13.093</td>\n",
       "      <td>drugC</td>\n",
       "    </tr>\n",
       "    <tr>\n",
       "      <th>2</th>\n",
       "      <td>47</td>\n",
       "      <td>M</td>\n",
       "      <td>LOW</td>\n",
       "      <td>HIGH</td>\n",
       "      <td>10.114</td>\n",
       "      <td>drugC</td>\n",
       "    </tr>\n",
       "    <tr>\n",
       "      <th>3</th>\n",
       "      <td>28</td>\n",
       "      <td>F</td>\n",
       "      <td>NORMAL</td>\n",
       "      <td>HIGH</td>\n",
       "      <td>7.798</td>\n",
       "      <td>drugX</td>\n",
       "    </tr>\n",
       "    <tr>\n",
       "      <th>4</th>\n",
       "      <td>61</td>\n",
       "      <td>F</td>\n",
       "      <td>LOW</td>\n",
       "      <td>HIGH</td>\n",
       "      <td>18.043</td>\n",
       "      <td>DrugY</td>\n",
       "    </tr>\n",
       "  </tbody>\n",
       "</table>\n",
       "</div>"
      ],
      "text/plain": [
       "   Age Sex      BP Cholesterol  Na_to_K   Drug\n",
       "0   23   F    HIGH        HIGH   25.355  DrugY\n",
       "1   47   M     LOW        HIGH   13.093  drugC\n",
       "2   47   M     LOW        HIGH   10.114  drugC\n",
       "3   28   F  NORMAL        HIGH    7.798  drugX\n",
       "4   61   F     LOW        HIGH   18.043  DrugY"
      ]
     },
     "execution_count": 3,
     "metadata": {},
     "output_type": "execute_result"
    }
   ],
   "source": [
    "data.head()"
   ]
  },
  {
   "cell_type": "markdown",
   "id": "5f4b7e4c",
   "metadata": {
    "papermill": {
     "duration": 0.048343,
     "end_time": "2021-10-01T20:31:36.667932",
     "exception": false,
     "start_time": "2021-10-01T20:31:36.619589",
     "status": "completed"
    },
    "tags": []
   },
   "source": [
    "# **finding NAN values**"
   ]
  },
  {
   "cell_type": "code",
   "execution_count": 4,
   "id": "658addad",
   "metadata": {
    "execution": {
     "iopub.execute_input": "2021-10-01T20:31:36.775298Z",
     "iopub.status.busy": "2021-10-01T20:31:36.771700Z",
     "iopub.status.idle": "2021-10-01T20:31:36.778044Z",
     "shell.execute_reply": "2021-10-01T20:31:36.778726Z",
     "shell.execute_reply.started": "2021-10-01T20:26:50.565863Z"
    },
    "papermill": {
     "duration": 0.06215,
     "end_time": "2021-10-01T20:31:36.778953",
     "exception": false,
     "start_time": "2021-10-01T20:31:36.716803",
     "status": "completed"
    },
    "tags": []
   },
   "outputs": [
    {
     "data": {
      "text/plain": [
       "Age            0\n",
       "Sex            0\n",
       "BP             0\n",
       "Cholesterol    0\n",
       "Na_to_K        0\n",
       "Drug           0\n",
       "dtype: int64"
      ]
     },
     "execution_count": 4,
     "metadata": {},
     "output_type": "execute_result"
    }
   ],
   "source": [
    "data.isnull().sum()"
   ]
  },
  {
   "cell_type": "code",
   "execution_count": 5,
   "id": "6cd9b78f",
   "metadata": {
    "execution": {
     "iopub.execute_input": "2021-10-01T20:31:36.909527Z",
     "iopub.status.busy": "2021-10-01T20:31:36.908847Z",
     "iopub.status.idle": "2021-10-01T20:31:36.912884Z",
     "shell.execute_reply": "2021-10-01T20:31:36.912234Z",
     "shell.execute_reply.started": "2021-10-01T20:26:51.444473Z"
    },
    "papermill": {
     "duration": 0.078677,
     "end_time": "2021-10-01T20:31:36.913023",
     "exception": false,
     "start_time": "2021-10-01T20:31:36.834346",
     "status": "completed"
    },
    "tags": []
   },
   "outputs": [
    {
     "name": "stdout",
     "output_type": "stream",
     "text": [
      "<class 'pandas.core.frame.DataFrame'>\n",
      "RangeIndex: 200 entries, 0 to 199\n",
      "Data columns (total 6 columns):\n",
      " #   Column       Non-Null Count  Dtype  \n",
      "---  ------       --------------  -----  \n",
      " 0   Age          200 non-null    int64  \n",
      " 1   Sex          200 non-null    object \n",
      " 2   BP           200 non-null    object \n",
      " 3   Cholesterol  200 non-null    object \n",
      " 4   Na_to_K      200 non-null    float64\n",
      " 5   Drug         200 non-null    object \n",
      "dtypes: float64(1), int64(1), object(4)\n",
      "memory usage: 9.5+ KB\n"
     ]
    }
   ],
   "source": [
    "data.info()"
   ]
  },
  {
   "cell_type": "markdown",
   "id": "c90f5001",
   "metadata": {
    "papermill": {
     "duration": 0.05005,
     "end_time": "2021-10-01T20:31:37.012172",
     "exception": false,
     "start_time": "2021-10-01T20:31:36.962122",
     "status": "completed"
    },
    "tags": []
   },
   "source": [
    "**there is no missing values in the date**</br>\n",
    "**we have 6 coulmns**</br>\n",
    "**and 200 rows**"
   ]
  },
  {
   "cell_type": "markdown",
   "id": "ed11c2ff",
   "metadata": {
    "papermill": {
     "duration": 0.050227,
     "end_time": "2021-10-01T20:31:37.112524",
     "exception": false,
     "start_time": "2021-10-01T20:31:37.062297",
     "status": "completed"
    },
    "tags": []
   },
   "source": [
    "# **data Visualization**"
   ]
  },
  {
   "cell_type": "code",
   "execution_count": 6,
   "id": "66914068",
   "metadata": {
    "execution": {
     "iopub.execute_input": "2021-10-01T20:31:37.235595Z",
     "iopub.status.busy": "2021-10-01T20:31:37.234675Z",
     "iopub.status.idle": "2021-10-01T20:31:37.498330Z",
     "shell.execute_reply": "2021-10-01T20:31:37.497782Z",
     "shell.execute_reply.started": "2021-10-01T20:27:22.201229Z"
    },
    "papermill": {
     "duration": 0.334498,
     "end_time": "2021-10-01T20:31:37.498490",
     "exception": false,
     "start_time": "2021-10-01T20:31:37.163992",
     "status": "completed"
    },
    "tags": []
   },
   "outputs": [
    {
     "data": {
      "image/png": "[encoded data removed]",
      "text/plain": [
       "<Figure size 720x720 with 2 Axes>"
      ]
     },
     "metadata": {
      "needs_background": "light"
     },
     "output_type": "display_data"
    }
   ],
   "source": [
    "fig, ax = plt.subplots(figsize  = (10, 10))\n",
    "sns.heatmap(data.corr(), cmap = 'BuPu', cbar = True, linewidth = 0.5, annot = True, ax = ax)\n",
    "plt.show()"
   ]
  },
  {
   "cell_type": "markdown",
   "id": "f2d88970",
   "metadata": {
    "papermill": {
     "duration": 0.049489,
     "end_time": "2021-10-01T20:31:37.597977",
     "exception": false,
     "start_time": "2021-10-01T20:31:37.548488",
     "status": "completed"
    },
    "tags": []
   },
   "source": [
    "**discover numbers of drug for each type and display it**"
   ]
  },
  {
   "cell_type": "code",
   "execution_count": 7,
   "id": "54cf9e20",
   "metadata": {
    "execution": {
     "iopub.execute_input": "2021-10-01T20:31:37.706037Z",
     "iopub.status.busy": "2021-10-01T20:31:37.705401Z",
     "iopub.status.idle": "2021-10-01T20:31:37.707869Z",
     "shell.execute_reply": "2021-10-01T20:31:37.708351Z",
     "shell.execute_reply.started": "2021-10-01T20:27:23.558340Z"
    },
    "papermill": {
     "duration": 0.060459,
     "end_time": "2021-10-01T20:31:37.708542",
     "exception": false,
     "start_time": "2021-10-01T20:31:37.648083",
     "status": "completed"
    },
    "tags": []
   },
   "outputs": [
    {
     "data": {
      "text/plain": [
       "DrugY    91\n",
       "drugX    54\n",
       "drugA    23\n",
       "drugC    16\n",
       "drugB    16\n",
       "Name: Drug, dtype: int64"
      ]
     },
     "execution_count": 7,
     "metadata": {},
     "output_type": "execute_result"
    }
   ],
   "source": [
    "data['Drug'].value_counts()"
   ]
  },
  {
   "cell_type": "code",
   "execution_count": 8,
   "id": "753d70af",
   "metadata": {
    "execution": {
     "iopub.execute_input": "2021-10-01T20:31:37.812631Z",
     "iopub.status.busy": "2021-10-01T20:31:37.811911Z",
     "iopub.status.idle": "2021-10-01T20:31:38.119479Z",
     "shell.execute_reply": "2021-10-01T20:31:38.118816Z",
     "shell.execute_reply.started": "2021-10-01T20:27:24.183618Z"
    },
    "papermill": {
     "duration": 0.36089,
     "end_time": "2021-10-01T20:31:38.119626",
     "exception": false,
     "start_time": "2021-10-01T20:31:37.758736",
     "status": "completed"
    },
    "tags": []
   },
   "outputs": [
    {
     "data": {
      "text/plain": [
       "<AxesSubplot:xlabel='Drug', ylabel='count'>"
      ]
     },
     "execution_count": 8,
     "metadata": {},
     "output_type": "execute_result"
    },
    {
     "data": {
      "image/png": "[encoded data removed]",
      "text/plain": [
       "<Figure size 432x288 with 1 Axes>"
      ]
     },
     "metadata": {
      "needs_background": "light"
     },
     "output_type": "display_data"
    }
   ],
   "source": [
    "sns.countplot(x = 'Drug', data= data)"
   ]
  },
  {
   "cell_type": "markdown",
   "id": "d760efdf",
   "metadata": {
    "papermill": {
     "duration": 0.051558,
     "end_time": "2021-10-01T20:31:38.224103",
     "exception": false,
     "start_time": "2021-10-01T20:31:38.172545",
     "status": "completed"
    },
    "tags": []
   },
   "source": [
    "**Discover Number of females and males in data**"
   ]
  },
  {
   "cell_type": "code",
   "execution_count": 9,
   "id": "9430ea49",
   "metadata": {
    "execution": {
     "iopub.execute_input": "2021-10-01T20:31:38.334446Z",
     "iopub.status.busy": "2021-10-01T20:31:38.333659Z",
     "iopub.status.idle": "2021-10-01T20:31:38.337232Z",
     "shell.execute_reply": "2021-10-01T20:31:38.336722Z",
     "shell.execute_reply.started": "2021-10-01T20:27:25.265937Z"
    },
    "papermill": {
     "duration": 0.061631,
     "end_time": "2021-10-01T20:31:38.337381",
     "exception": false,
     "start_time": "2021-10-01T20:31:38.275750",
     "status": "completed"
    },
    "tags": []
   },
   "outputs": [
    {
     "data": {
      "text/plain": [
       "M    104\n",
       "F     96\n",
       "Name: Sex, dtype: int64"
      ]
     },
     "execution_count": 9,
     "metadata": {},
     "output_type": "execute_result"
    }
   ],
   "source": [
    "data['Sex'].value_counts()"
   ]
  },
  {
   "cell_type": "code",
   "execution_count": 10,
   "id": "ae375d41",
   "metadata": {
    "execution": {
     "iopub.execute_input": "2021-10-01T20:31:38.444716Z",
     "iopub.status.busy": "2021-10-01T20:31:38.443720Z",
     "iopub.status.idle": "2021-10-01T20:31:38.617133Z",
     "shell.execute_reply": "2021-10-01T20:31:38.616598Z",
     "shell.execute_reply.started": "2021-10-01T20:27:25.781783Z"
    },
    "papermill": {
     "duration": 0.227731,
     "end_time": "2021-10-01T20:31:38.617275",
     "exception": false,
     "start_time": "2021-10-01T20:31:38.389544",
     "status": "completed"
    },
    "tags": []
   },
   "outputs": [
    {
     "data": {
      "text/plain": [
       "<AxesSubplot:xlabel='Sex', ylabel='count'>"
      ]
     },
     "execution_count": 10,
     "metadata": {},
     "output_type": "execute_result"
    },
    {
     "data": {
      "image/png": "[encoded data removed]",
      "text/plain": [
       "<Figure size 432x288 with 1 Axes>"
      ]
     },
     "metadata": {
      "needs_background": "light"
     },
     "output_type": "display_data"
    }
   ],
   "source": [
    "sns.countplot(x = 'Sex', data= data)"
   ]
  },
  {
   "cell_type": "markdown",
   "id": "f2387c3f",
   "metadata": {
    "papermill": {
     "duration": 0.052825,
     "end_time": "2021-10-01T20:31:38.722752",
     "exception": false,
     "start_time": "2021-10-01T20:31:38.669927",
     "status": "completed"
    },
    "tags": []
   },
   "source": [
    "**Number of High, Low and Normal BP in the data**"
   ]
  },
  {
   "cell_type": "code",
   "execution_count": 11,
   "id": "4702b7e4",
   "metadata": {
    "execution": {
     "iopub.execute_input": "2021-10-01T20:31:38.837558Z",
     "iopub.status.busy": "2021-10-01T20:31:38.836687Z",
     "iopub.status.idle": "2021-10-01T20:31:38.840278Z",
     "shell.execute_reply": "2021-10-01T20:31:38.840848Z",
     "shell.execute_reply.started": "2021-10-01T20:27:27.161523Z"
    },
    "papermill": {
     "duration": 0.064837,
     "end_time": "2021-10-01T20:31:38.841033",
     "exception": false,
     "start_time": "2021-10-01T20:31:38.776196",
     "status": "completed"
    },
    "tags": []
   },
   "outputs": [
    {
     "data": {
      "text/plain": [
       "HIGH      77\n",
       "LOW       64\n",
       "NORMAL    59\n",
       "Name: BP, dtype: int64"
      ]
     },
     "execution_count": 11,
     "metadata": {},
     "output_type": "execute_result"
    }
   ],
   "source": [
    "data['BP'].value_counts()"
   ]
  },
  {
   "cell_type": "code",
   "execution_count": 12,
   "id": "21fc2563",
   "metadata": {
    "execution": {
     "iopub.execute_input": "2021-10-01T20:31:38.981317Z",
     "iopub.status.busy": "2021-10-01T20:31:38.953385Z",
     "iopub.status.idle": "2021-10-01T20:31:39.153950Z",
     "shell.execute_reply": "2021-10-01T20:31:39.153445Z",
     "shell.execute_reply.started": "2021-10-01T20:27:28.000666Z"
    },
    "papermill": {
     "duration": 0.260067,
     "end_time": "2021-10-01T20:31:39.154092",
     "exception": false,
     "start_time": "2021-10-01T20:31:38.894025",
     "status": "completed"
    },
    "tags": []
   },
   "outputs": [
    {
     "data": {
      "text/plain": [
       "<AxesSubplot:xlabel='BP', ylabel='count'>"
      ]
     },
     "execution_count": 12,
     "metadata": {},
     "output_type": "execute_result"
    },
    {
     "data": {
      "image/png": "[encoded data removed]",
      "text/plain": [
       "<Figure size 432x288 with 1 Axes>"
      ]
     },
     "metadata": {
      "needs_background": "light"
     },
     "output_type": "display_data"
    }
   ],
   "source": [
    "sns.countplot(x = 'BP', data= data)"
   ]
  },
  {
   "cell_type": "markdown",
   "id": "8d3b0c25",
   "metadata": {
    "papermill": {
     "duration": 0.05352,
     "end_time": "2021-10-01T20:31:39.262757",
     "exception": false,
     "start_time": "2021-10-01T20:31:39.209237",
     "status": "completed"
    },
    "tags": []
   },
   "source": [
    "**Number of High and Normal Cholesterol in the data**"
   ]
  },
  {
   "cell_type": "code",
   "execution_count": 13,
   "id": "8c995a08",
   "metadata": {
    "execution": {
     "iopub.execute_input": "2021-10-01T20:31:39.377810Z",
     "iopub.status.busy": "2021-10-01T20:31:39.376646Z",
     "iopub.status.idle": "2021-10-01T20:31:39.380351Z",
     "shell.execute_reply": "2021-10-01T20:31:39.380837Z",
     "shell.execute_reply.started": "2021-10-01T20:27:31.541635Z"
    },
    "papermill": {
     "duration": 0.064604,
     "end_time": "2021-10-01T20:31:39.380998",
     "exception": false,
     "start_time": "2021-10-01T20:31:39.316394",
     "status": "completed"
    },
    "tags": []
   },
   "outputs": [
    {
     "data": {
      "text/plain": [
       "HIGH      103\n",
       "NORMAL     97\n",
       "Name: Cholesterol, dtype: int64"
      ]
     },
     "execution_count": 13,
     "metadata": {},
     "output_type": "execute_result"
    }
   ],
   "source": [
    "data['Cholesterol'].value_counts()"
   ]
  },
  {
   "cell_type": "code",
   "execution_count": 14,
   "id": "add62d39",
   "metadata": {
    "execution": {
     "iopub.execute_input": "2021-10-01T20:31:39.521073Z",
     "iopub.status.busy": "2021-10-01T20:31:39.513687Z",
     "iopub.status.idle": "2021-10-01T20:31:39.667514Z",
     "shell.execute_reply": "2021-10-01T20:31:39.666955Z",
     "shell.execute_reply.started": "2021-10-01T20:27:32.953443Z"
    },
    "papermill": {
     "duration": 0.232341,
     "end_time": "2021-10-01T20:31:39.667654",
     "exception": false,
     "start_time": "2021-10-01T20:31:39.435313",
     "status": "completed"
    },
    "tags": []
   },
   "outputs": [
    {
     "data": {
      "text/plain": [
       "<AxesSubplot:xlabel='Cholesterol', ylabel='count'>"
      ]
     },
     "execution_count": 14,
     "metadata": {},
     "output_type": "execute_result"
    },
    {
     "data": {
      "image/png": "[encoded data removed]",
      "text/plain": [
       "<Figure size 432x288 with 1 Axes>"
      ]
     },
     "metadata": {
      "needs_background": "light"
     },
     "output_type": "display_data"
    }
   ],
   "source": [
    "sns.countplot(x = 'Cholesterol', data= data)"
   ]
  },
  {
   "cell_type": "code",
   "execution_count": 15,
   "id": "6418172e",
   "metadata": {
    "execution": {
     "iopub.execute_input": "2021-10-01T20:31:39.786759Z",
     "iopub.status.busy": "2021-10-01T20:31:39.786074Z",
     "iopub.status.idle": "2021-10-01T20:31:39.789920Z",
     "shell.execute_reply": "2021-10-01T20:31:39.789389Z",
     "shell.execute_reply.started": "2021-10-01T20:27:34.551142Z"
    },
    "papermill": {
     "duration": 0.067197,
     "end_time": "2021-10-01T20:31:39.790051",
     "exception": false,
     "start_time": "2021-10-01T20:31:39.722854",
     "status": "completed"
    },
    "tags": []
   },
   "outputs": [
    {
     "data": {
      "text/plain": [
       "count    200.000000\n",
       "mean      16.084485\n",
       "std        7.223956\n",
       "min        6.269000\n",
       "25%       10.445500\n",
       "50%       13.936500\n",
       "75%       19.380000\n",
       "max       38.247000\n",
       "Name: Na_to_K, dtype: float64"
      ]
     },
     "execution_count": 15,
     "metadata": {},
     "output_type": "execute_result"
    }
   ],
   "source": [
    "data['Na_to_K'].describe()"
   ]
  },
  {
   "cell_type": "code",
   "execution_count": 16,
   "id": "8b321730",
   "metadata": {
    "execution": {
     "iopub.execute_input": "2021-10-01T20:31:39.927712Z",
     "iopub.status.busy": "2021-10-01T20:31:39.904037Z",
     "iopub.status.idle": "2021-10-01T20:31:40.149313Z",
     "shell.execute_reply": "2021-10-01T20:31:40.148797Z",
     "shell.execute_reply.started": "2021-10-01T20:27:36.053177Z"
    },
    "papermill": {
     "duration": 0.303781,
     "end_time": "2021-10-01T20:31:40.149476",
     "exception": false,
     "start_time": "2021-10-01T20:31:39.845695",
     "status": "completed"
    },
    "tags": []
   },
   "outputs": [
    {
     "data": {
      "text/plain": [
       "<AxesSubplot:ylabel='Density'>"
      ]
     },
     "execution_count": 16,
     "metadata": {},
     "output_type": "execute_result"
    },
    {
     "data": {
      "image/png": "[encoded data removed]",
      "text/plain": [
       "<Figure size 432x288 with 1 Axes>"
      ]
     },
     "metadata": {
      "needs_background": "light"
     },
     "output_type": "display_data"
    }
   ],
   "source": [
    "sns.distplot(x = data['Na_to_K'])"
   ]
  },
  {
   "cell_type": "code",
   "execution_count": 17,
   "id": "cb0b7216",
   "metadata": {
    "execution": {
     "iopub.execute_input": "2021-10-01T20:31:40.305958Z",
     "iopub.status.busy": "2021-10-01T20:31:40.266242Z",
     "iopub.status.idle": "2021-10-01T20:31:40.555206Z",
     "shell.execute_reply": "2021-10-01T20:31:40.555724Z",
     "shell.execute_reply.started": "2021-10-01T20:27:40.738746Z"
    },
    "papermill": {
     "duration": 0.348964,
     "end_time": "2021-10-01T20:31:40.555896",
     "exception": false,
     "start_time": "2021-10-01T20:31:40.206932",
     "status": "completed"
    },
    "tags": []
   },
   "outputs": [
    {
     "data": {
      "text/plain": [
       "<AxesSubplot:xlabel='Age', ylabel='Count'>"
      ]
     },
     "execution_count": 17,
     "metadata": {},
     "output_type": "execute_result"
    },
    {
     "data": {
      "image/png": "[encoded data removed]",
      "text/plain": [
       "<Figure size 432x288 with 1 Axes>"
      ]
     },
     "metadata": {
      "needs_background": "light"
     },
     "output_type": "display_data"
    }
   ],
   "source": [
    "sns.histplot(x = 'Age', kde=True, bins = 25, data = data)"
   ]
  },
  {
   "cell_type": "code",
   "execution_count": 18,
   "id": "d6c3897c",
   "metadata": {
    "execution": {
     "iopub.execute_input": "2021-10-01T20:31:40.691694Z",
     "iopub.status.busy": "2021-10-01T20:31:40.690650Z",
     "iopub.status.idle": "2021-10-01T20:31:41.111632Z",
     "shell.execute_reply": "2021-10-01T20:31:41.112190Z",
     "shell.execute_reply.started": "2021-10-01T20:27:56.222215Z"
    },
    "papermill": {
     "duration": 0.498484,
     "end_time": "2021-10-01T20:31:41.112360",
     "exception": false,
     "start_time": "2021-10-01T20:31:40.613876",
     "status": "completed"
    },
    "tags": []
   },
   "outputs": [
    {
     "data": {
      "text/plain": [
       "<AxesSubplot:xlabel='Age', ylabel='Na_to_K'>"
      ]
     },
     "execution_count": 18,
     "metadata": {},
     "output_type": "execute_result"
    },
    {
     "data": {
      "image/png": "[encoded data removed]",
      "text/plain": [
       "<Figure size 432x288 with 1 Axes>"
      ]
     },
     "metadata": {
      "needs_background": "light"
     },
     "output_type": "display_data"
    }
   ],
   "source": [
    "sns.scatterplot(x = 'Age', y = 'Na_to_K', data = data, hue = 'Drug')"
   ]
  },
  {
   "cell_type": "markdown",
   "id": "dd21e87f",
   "metadata": {
    "papermill": {
     "duration": 0.061879,
     "end_time": "2021-10-01T20:31:41.234616",
     "exception": false,
     "start_time": "2021-10-01T20:31:41.172737",
     "status": "completed"
    },
    "tags": []
   },
   "source": [
    "**In the last fig we find all the items have more than 15 Na_to_K have DrugY type**"
   ]
  },
  {
   "cell_type": "markdown",
   "id": "450d041c",
   "metadata": {
    "papermill": {
     "duration": 0.059714,
     "end_time": "2021-10-01T20:31:41.354468",
     "exception": false,
     "start_time": "2021-10-01T20:31:41.294754",
     "status": "completed"
    },
    "tags": []
   },
   "source": [
    "**In the next**</br>\n",
    "**We will find out the number of each Drug type per Sex**"
   ]
  },
  {
   "cell_type": "code",
   "execution_count": 19,
   "id": "85e1bc63",
   "metadata": {
    "execution": {
     "iopub.execute_input": "2021-10-01T20:31:41.488151Z",
     "iopub.status.busy": "2021-10-01T20:31:41.487351Z",
     "iopub.status.idle": "2021-10-01T20:31:41.491442Z",
     "shell.execute_reply": "2021-10-01T20:31:41.490787Z",
     "shell.execute_reply.started": "2021-10-01T20:28:03.007455Z"
    },
    "papermill": {
     "duration": 0.075387,
     "end_time": "2021-10-01T20:31:41.491580",
     "exception": false,
     "start_time": "2021-10-01T20:31:41.416193",
     "status": "completed"
    },
    "tags": []
   },
   "outputs": [
    {
     "name": "stdout",
     "output_type": "stream",
     "text": [
      "    Drug Sex  count\n",
      "0  DrugY   F     47\n",
      "1  DrugY   M     44\n",
      "2  drugA   F      9\n",
      "3  drugA   M     14\n",
      "4  drugB   F      6\n",
      "5  drugB   M     10\n",
      "6  drugC   F      7\n",
      "7  drugC   M      9\n",
      "8  drugX   F     27\n",
      "9  drugX   M     27\n"
     ]
    }
   ],
   "source": [
    "data_sex_drug = data.groupby(['Drug','Sex']).size().reset_index(name = 'count')\n",
    "print(data_sex_drug)"
   ]
  },
  {
   "cell_type": "code",
   "execution_count": 20,
   "id": "9b26501b",
   "metadata": {
    "execution": {
     "iopub.execute_input": "2021-10-01T20:31:41.661216Z",
     "iopub.status.busy": "2021-10-01T20:31:41.620616Z",
     "iopub.status.idle": "2021-10-01T20:31:41.867267Z",
     "shell.execute_reply": "2021-10-01T20:31:41.866657Z",
     "shell.execute_reply.started": "2021-10-01T20:28:14.566212Z"
    },
    "papermill": {
     "duration": 0.315277,
     "end_time": "2021-10-01T20:31:41.867421",
     "exception": false,
     "start_time": "2021-10-01T20:31:41.552144",
     "status": "completed"
    },
    "tags": []
   },
   "outputs": [
    {
     "data": {
      "text/plain": [
       "<AxesSubplot:xlabel='Drug', ylabel='count'>"
      ]
     },
     "execution_count": 20,
     "metadata": {},
     "output_type": "execute_result"
    },
    {
     "data": {
      "image/png": "[encoded data removed]",
      "text/plain": [
       "<Figure size 432x288 with 1 Axes>"
      ]
     },
     "metadata": {
      "needs_background": "light"
     },
     "output_type": "display_data"
    }
   ],
   "source": [
    "sns.countplot(x = 'Drug', data= data, hue = 'Sex')"
   ]
  },
  {
   "cell_type": "markdown",
   "id": "c4422de7",
   "metadata": {
    "papermill": {
     "duration": 0.060525,
     "end_time": "2021-10-01T20:31:41.988791",
     "exception": false,
     "start_time": "2021-10-01T20:31:41.928266",
     "status": "completed"
    },
    "tags": []
   },
   "source": [
    "**We will find out the number of each Drug type per BP**"
   ]
  },
  {
   "cell_type": "code",
   "execution_count": 21,
   "id": "ccd5cf74",
   "metadata": {
    "execution": {
     "iopub.execute_input": "2021-10-01T20:31:42.121681Z",
     "iopub.status.busy": "2021-10-01T20:31:42.120879Z",
     "iopub.status.idle": "2021-10-01T20:31:42.124842Z",
     "shell.execute_reply": "2021-10-01T20:31:42.124037Z",
     "shell.execute_reply.started": "2021-10-01T20:28:17.612623Z"
    },
    "papermill": {
     "duration": 0.075423,
     "end_time": "2021-10-01T20:31:42.125005",
     "exception": false,
     "start_time": "2021-10-01T20:31:42.049582",
     "status": "completed"
    },
    "tags": []
   },
   "outputs": [
    {
     "name": "stdout",
     "output_type": "stream",
     "text": [
      "    Drug      BP  count\n",
      "0  DrugY    HIGH     38\n",
      "1  DrugY     LOW     30\n",
      "2  DrugY  NORMAL     23\n",
      "3  drugA    HIGH     23\n",
      "4  drugB    HIGH     16\n",
      "5  drugC     LOW     16\n",
      "6  drugX     LOW     18\n",
      "7  drugX  NORMAL     36\n"
     ]
    }
   ],
   "source": [
    "data_BP_drug = data.groupby(['Drug','BP']).size().reset_index(name = 'count')\n",
    "print(data_BP_drug)"
   ]
  },
  {
   "cell_type": "code",
   "execution_count": 22,
   "id": "03b9d037",
   "metadata": {
    "execution": {
     "iopub.execute_input": "2021-10-01T20:31:42.297351Z",
     "iopub.status.busy": "2021-10-01T20:31:42.290481Z",
     "iopub.status.idle": "2021-10-01T20:31:42.546610Z",
     "shell.execute_reply": "2021-10-01T20:31:42.547191Z",
     "shell.execute_reply.started": "2021-10-01T20:28:18.959616Z"
    },
    "papermill": {
     "duration": 0.359946,
     "end_time": "2021-10-01T20:31:42.547388",
     "exception": false,
     "start_time": "2021-10-01T20:31:42.187442",
     "status": "completed"
    },
    "tags": []
   },
   "outputs": [
    {
     "data": {
      "text/plain": [
       "<AxesSubplot:xlabel='Drug', ylabel='count'>"
      ]
     },
     "execution_count": 22,
     "metadata": {},
     "output_type": "execute_result"
    },
    {
     "data": {
      "image/png": "[encoded data removed]",
      "text/plain": [
       "<Figure size 432x288 with 1 Axes>"
      ]
     },
     "metadata": {
      "needs_background": "light"
     },
     "output_type": "display_data"
    }
   ],
   "source": [
    "sns.countplot(x = 'Drug', data= data, hue = 'BP')"
   ]
  },
  {
   "cell_type": "markdown",
   "id": "d115fc1f",
   "metadata": {
    "papermill": {
     "duration": 0.061897,
     "end_time": "2021-10-01T20:31:42.671338",
     "exception": false,
     "start_time": "2021-10-01T20:31:42.609441",
     "status": "completed"
    },
    "tags": []
   },
   "source": [
    "**We will find out the number of each drug type per Cholesterol**"
   ]
  },
  {
   "cell_type": "code",
   "execution_count": 23,
   "id": "02253b99",
   "metadata": {
    "execution": {
     "iopub.execute_input": "2021-10-01T20:31:42.799881Z",
     "iopub.status.busy": "2021-10-01T20:31:42.799238Z",
     "iopub.status.idle": "2021-10-01T20:31:42.809205Z",
     "shell.execute_reply": "2021-10-01T20:31:42.809708Z",
     "shell.execute_reply.started": "2021-10-01T20:28:21.923746Z"
    },
    "papermill": {
     "duration": 0.075974,
     "end_time": "2021-10-01T20:31:42.809875",
     "exception": false,
     "start_time": "2021-10-01T20:31:42.733901",
     "status": "completed"
    },
    "tags": []
   },
   "outputs": [
    {
     "name": "stdout",
     "output_type": "stream",
     "text": [
      "    Drug Cholesterol  count\n",
      "0  DrugY        HIGH     47\n",
      "1  DrugY      NORMAL     44\n",
      "2  drugA        HIGH     12\n",
      "3  drugA      NORMAL     11\n",
      "4  drugB        HIGH      8\n",
      "5  drugB      NORMAL      8\n",
      "6  drugC        HIGH     16\n",
      "7  drugX        HIGH     20\n",
      "8  drugX      NORMAL     34\n"
     ]
    }
   ],
   "source": [
    "data_Cholesterol_drug = data.groupby(['Drug','Cholesterol']).size().reset_index(name = 'count')\n",
    "print(data_Cholesterol_drug)"
   ]
  },
  {
   "cell_type": "code",
   "execution_count": 24,
   "id": "81088804",
   "metadata": {
    "execution": {
     "iopub.execute_input": "2021-10-01T20:31:42.943215Z",
     "iopub.status.busy": "2021-10-01T20:31:42.942544Z",
     "iopub.status.idle": "2021-10-01T20:31:43.191227Z",
     "shell.execute_reply": "2021-10-01T20:31:43.191715Z",
     "shell.execute_reply.started": "2021-10-01T20:28:23.232424Z"
    },
    "papermill": {
     "duration": 0.319571,
     "end_time": "2021-10-01T20:31:43.191892",
     "exception": false,
     "start_time": "2021-10-01T20:31:42.872321",
     "status": "completed"
    },
    "tags": []
   },
   "outputs": [
    {
     "data": {
      "text/plain": [
       "<AxesSubplot:xlabel='Drug', ylabel='count'>"
      ]
     },
     "execution_count": 24,
     "metadata": {},
     "output_type": "execute_result"
    },
    {
     "data": {
      "image/png": "[encoded data removed]",
      "text/plain": [
       "<Figure size 432x288 with 1 Axes>"
      ]
     },
     "metadata": {
      "needs_background": "light"
     },
     "output_type": "display_data"
    }
   ],
   "source": [
    "sns.countplot(x = 'Drug', data= data, hue = 'Cholesterol')"
   ]
  },
  {
   "cell_type": "markdown",
   "id": "6dd12a7a",
   "metadata": {
    "papermill": {
     "duration": 0.063306,
     "end_time": "2021-10-01T20:31:43.319712",
     "exception": false,
     "start_time": "2021-10-01T20:31:43.256406",
     "status": "completed"
    },
    "tags": []
   },
   "source": [
    "# **Dummy variables**\n",
    "**Convert categorical variables into dummy**"
   ]
  },
  {
   "cell_type": "markdown",
   "id": "067d255e",
   "metadata": {
    "papermill": {
     "duration": 0.063444,
     "end_time": "2021-10-01T20:31:43.447506",
     "exception": false,
     "start_time": "2021-10-01T20:31:43.384062",
     "status": "completed"
    },
    "tags": []
   },
   "source": [
    "**We will use map operation for Sex coulmn, Cholesterol and Drug coulmns**</br>\n",
    "**map used in Sex coulmn becouse it has only two values (F, M) so it can be converted into (0 , 1)**</br>\n",
    "**map used in Cholesterol coulmn becouse it has only two values (HIGH, NORMAL) so it can be converted into (0 , 1)**</br>\n",
    "**map used in Drug coulmn becouse it is target coulmn**</br>"
   ]
  },
  {
   "cell_type": "code",
   "execution_count": 25,
   "id": "ca5eab3f",
   "metadata": {
    "execution": {
     "iopub.execute_input": "2021-10-01T20:31:43.588753Z",
     "iopub.status.busy": "2021-10-01T20:31:43.588082Z",
     "iopub.status.idle": "2021-10-01T20:31:43.594321Z",
     "shell.execute_reply": "2021-10-01T20:31:43.594814Z",
     "shell.execute_reply.started": "2021-10-01T20:28:29.866569Z"
    },
    "papermill": {
     "duration": 0.083846,
     "end_time": "2021-10-01T20:31:43.594985",
     "exception": false,
     "start_time": "2021-10-01T20:31:43.511139",
     "status": "completed"
    },
    "tags": []
   },
   "outputs": [
    {
     "data": {
      "text/html": [
       "<div>\n",
       "<style scoped>\n",
       "    .dataframe tbody tr th:only-of-type {\n",
       "        vertical-align: middle;\n",
       "    }\n",
       "\n",
       "    .dataframe tbody tr th {\n",
       "        vertical-align: top;\n",
       "    }\n",
       "\n",
       "    .dataframe thead th {\n",
       "        text-align: right;\n",
       "    }\n",
       "</style>\n",
       "<table border=\"1\" class=\"dataframe\">\n",
       "  <thead>\n",
       "    <tr style=\"text-align: right;\">\n",
       "      <th></th>\n",
       "      <th>Age</th>\n",
       "      <th>Sex</th>\n",
       "      <th>BP</th>\n",
       "      <th>Cholesterol</th>\n",
       "      <th>Na_to_K</th>\n",
       "      <th>Drug</th>\n",
       "    </tr>\n",
       "  </thead>\n",
       "  <tbody>\n",
       "    <tr>\n",
       "      <th>0</th>\n",
       "      <td>23</td>\n",
       "      <td>0</td>\n",
       "      <td>HIGH</td>\n",
       "      <td>1</td>\n",
       "      <td>25.355</td>\n",
       "      <td>1</td>\n",
       "    </tr>\n",
       "    <tr>\n",
       "      <th>1</th>\n",
       "      <td>47</td>\n",
       "      <td>1</td>\n",
       "      <td>LOW</td>\n",
       "      <td>1</td>\n",
       "      <td>13.093</td>\n",
       "      <td>2</td>\n",
       "    </tr>\n",
       "    <tr>\n",
       "      <th>2</th>\n",
       "      <td>47</td>\n",
       "      <td>1</td>\n",
       "      <td>LOW</td>\n",
       "      <td>1</td>\n",
       "      <td>10.114</td>\n",
       "      <td>2</td>\n",
       "    </tr>\n",
       "    <tr>\n",
       "      <th>3</th>\n",
       "      <td>28</td>\n",
       "      <td>0</td>\n",
       "      <td>NORMAL</td>\n",
       "      <td>1</td>\n",
       "      <td>7.798</td>\n",
       "      <td>3</td>\n",
       "    </tr>\n",
       "    <tr>\n",
       "      <th>4</th>\n",
       "      <td>61</td>\n",
       "      <td>0</td>\n",
       "      <td>LOW</td>\n",
       "      <td>1</td>\n",
       "      <td>18.043</td>\n",
       "      <td>1</td>\n",
       "    </tr>\n",
       "  </tbody>\n",
       "</table>\n",
       "</div>"
      ],
      "text/plain": [
       "   Age  Sex      BP  Cholesterol  Na_to_K  Drug\n",
       "0   23    0    HIGH            1   25.355     1\n",
       "1   47    1     LOW            1   13.093     2\n",
       "2   47    1     LOW            1   10.114     2\n",
       "3   28    0  NORMAL            1    7.798     3\n",
       "4   61    0     LOW            1   18.043     1"
      ]
     },
     "execution_count": 25,
     "metadata": {},
     "output_type": "execute_result"
    }
   ],
   "source": [
    "data['Sex'] = data['Sex'].map({'M': 1, 'F': 0})\n",
    "data['Cholesterol'] = data['Cholesterol'].map({'HIGH' : 1, 'NORMAL' : 0})\n",
    "data['Drug'] = data['Drug'].map({'DrugY':1, 'drugC':2, 'drugX':3, 'drugA':4, 'drugB':5})\n",
    "data.head()"
   ]
  },
  {
   "cell_type": "code",
   "execution_count": 26,
   "id": "a33be49c",
   "metadata": {
    "execution": {
     "iopub.execute_input": "2021-10-01T20:31:43.731203Z",
     "iopub.status.busy": "2021-10-01T20:31:43.730560Z",
     "iopub.status.idle": "2021-10-01T20:31:43.734880Z",
     "shell.execute_reply": "2021-10-01T20:31:43.735392Z",
     "shell.execute_reply.started": "2021-10-01T20:28:31.617382Z"
    },
    "papermill": {
     "duration": 0.07643,
     "end_time": "2021-10-01T20:31:43.735566",
     "exception": false,
     "start_time": "2021-10-01T20:31:43.659136",
     "status": "completed"
    },
    "tags": []
   },
   "outputs": [
    {
     "data": {
      "text/plain": [
       "(200, 6)"
      ]
     },
     "execution_count": 26,
     "metadata": {},
     "output_type": "execute_result"
    }
   ],
   "source": [
    "data.shape"
   ]
  },
  {
   "cell_type": "markdown",
   "id": "e8d792f9",
   "metadata": {
    "papermill": {
     "duration": 0.063962,
     "end_time": "2021-10-01T20:31:43.863633",
     "exception": false,
     "start_time": "2021-10-01T20:31:43.799671",
     "status": "completed"
    },
    "tags": []
   },
   "source": [
    "**the we will used get_dummies function in pandas for other categorical variables in the data**"
   ]
  },
  {
   "cell_type": "code",
   "execution_count": 27,
   "id": "628f6d3c",
   "metadata": {
    "execution": {
     "iopub.execute_input": "2021-10-01T20:31:43.995613Z",
     "iopub.status.busy": "2021-10-01T20:31:43.994957Z",
     "iopub.status.idle": "2021-10-01T20:31:44.010294Z",
     "shell.execute_reply": "2021-10-01T20:31:44.010879Z",
     "shell.execute_reply.started": "2021-10-01T20:28:34.241169Z"
    },
    "papermill": {
     "duration": 0.083487,
     "end_time": "2021-10-01T20:31:44.011081",
     "exception": false,
     "start_time": "2021-10-01T20:31:43.927594",
     "status": "completed"
    },
    "tags": []
   },
   "outputs": [
    {
     "data": {
      "text/html": [
       "<div>\n",
       "<style scoped>\n",
       "    .dataframe tbody tr th:only-of-type {\n",
       "        vertical-align: middle;\n",
       "    }\n",
       "\n",
       "    .dataframe tbody tr th {\n",
       "        vertical-align: top;\n",
       "    }\n",
       "\n",
       "    .dataframe thead th {\n",
       "        text-align: right;\n",
       "    }\n",
       "</style>\n",
       "<table border=\"1\" class=\"dataframe\">\n",
       "  <thead>\n",
       "    <tr style=\"text-align: right;\">\n",
       "      <th></th>\n",
       "      <th>Age</th>\n",
       "      <th>Sex</th>\n",
       "      <th>Cholesterol</th>\n",
       "      <th>Na_to_K</th>\n",
       "      <th>Drug</th>\n",
       "      <th>BP_HIGH</th>\n",
       "      <th>BP_LOW</th>\n",
       "      <th>BP_NORMAL</th>\n",
       "    </tr>\n",
       "  </thead>\n",
       "  <tbody>\n",
       "    <tr>\n",
       "      <th>0</th>\n",
       "      <td>23</td>\n",
       "      <td>0</td>\n",
       "      <td>1</td>\n",
       "      <td>25.355</td>\n",
       "      <td>1</td>\n",
       "      <td>1</td>\n",
       "      <td>0</td>\n",
       "      <td>0</td>\n",
       "    </tr>\n",
       "    <tr>\n",
       "      <th>1</th>\n",
       "      <td>47</td>\n",
       "      <td>1</td>\n",
       "      <td>1</td>\n",
       "      <td>13.093</td>\n",
       "      <td>2</td>\n",
       "      <td>0</td>\n",
       "      <td>1</td>\n",
       "      <td>0</td>\n",
       "    </tr>\n",
       "    <tr>\n",
       "      <th>2</th>\n",
       "      <td>47</td>\n",
       "      <td>1</td>\n",
       "      <td>1</td>\n",
       "      <td>10.114</td>\n",
       "      <td>2</td>\n",
       "      <td>0</td>\n",
       "      <td>1</td>\n",
       "      <td>0</td>\n",
       "    </tr>\n",
       "    <tr>\n",
       "      <th>3</th>\n",
       "      <td>28</td>\n",
       "      <td>0</td>\n",
       "      <td>1</td>\n",
       "      <td>7.798</td>\n",
       "      <td>3</td>\n",
       "      <td>0</td>\n",
       "      <td>0</td>\n",
       "      <td>1</td>\n",
       "    </tr>\n",
       "    <tr>\n",
       "      <th>4</th>\n",
       "      <td>61</td>\n",
       "      <td>0</td>\n",
       "      <td>1</td>\n",
       "      <td>18.043</td>\n",
       "      <td>1</td>\n",
       "      <td>0</td>\n",
       "      <td>1</td>\n",
       "      <td>0</td>\n",
       "    </tr>\n",
       "  </tbody>\n",
       "</table>\n",
       "</div>"
      ],
      "text/plain": [
       "   Age  Sex  Cholesterol  Na_to_K  Drug  BP_HIGH  BP_LOW  BP_NORMAL\n",
       "0   23    0            1   25.355     1        1       0          0\n",
       "1   47    1            1   13.093     2        0       1          0\n",
       "2   47    1            1   10.114     2        0       1          0\n",
       "3   28    0            1    7.798     3        0       0          1\n",
       "4   61    0            1   18.043     1        0       1          0"
      ]
     },
     "execution_count": 27,
     "metadata": {},
     "output_type": "execute_result"
    }
   ],
   "source": [
    "data = pd.get_dummies(data)\n",
    "data.head()"
   ]
  },
  {
   "cell_type": "code",
   "execution_count": 28,
   "id": "c5ff9930",
   "metadata": {
    "execution": {
     "iopub.execute_input": "2021-10-01T20:31:44.145382Z",
     "iopub.status.busy": "2021-10-01T20:31:44.144747Z",
     "iopub.status.idle": "2021-10-01T20:31:44.149100Z",
     "shell.execute_reply": "2021-10-01T20:31:44.149679Z",
     "shell.execute_reply.started": "2021-10-01T20:28:35.807718Z"
    },
    "papermill": {
     "duration": 0.073266,
     "end_time": "2021-10-01T20:31:44.149846",
     "exception": false,
     "start_time": "2021-10-01T20:31:44.076580",
     "status": "completed"
    },
    "tags": []
   },
   "outputs": [
    {
     "data": {
      "text/plain": [
       "(200, 8)"
      ]
     },
     "execution_count": 28,
     "metadata": {},
     "output_type": "execute_result"
    }
   ],
   "source": [
    "data.shape"
   ]
  },
  {
   "cell_type": "code",
   "execution_count": 29,
   "id": "5734548f",
   "metadata": {
    "execution": {
     "iopub.execute_input": "2021-10-01T20:31:44.284484Z",
     "iopub.status.busy": "2021-10-01T20:31:44.283814Z",
     "iopub.status.idle": "2021-10-01T20:31:44.865224Z",
     "shell.execute_reply": "2021-10-01T20:31:44.865742Z",
     "shell.execute_reply.started": "2021-10-01T20:28:39.091503Z"
    },
    "papermill": {
     "duration": 0.649927,
     "end_time": "2021-10-01T20:31:44.865911",
     "exception": false,
     "start_time": "2021-10-01T20:31:44.215984",
     "status": "completed"
    },
    "tags": []
   },
   "outputs": [
    {
     "data": {
      "image/png": "[encoded data removed]",
      "text/plain": [
       "<Figure size 720x720 with 2 Axes>"
      ]
     },
     "metadata": {
      "needs_background": "light"
     },
     "output_type": "display_data"
    }
   ],
   "source": [
    "fig, ax = plt.subplots(figsize  = (10, 10))\n",
    "sns.heatmap(data.corr(), cmap = 'BuPu', cbar = True, linewidth = 0.5, annot = True, ax = ax)\n",
    "plt.show()"
   ]
  },
  {
   "cell_type": "code",
   "execution_count": 30,
   "id": "27b1edbc",
   "metadata": {
    "execution": {
     "iopub.execute_input": "2021-10-01T20:31:45.004047Z",
     "iopub.status.busy": "2021-10-01T20:31:45.003430Z",
     "iopub.status.idle": "2021-10-01T20:31:45.008819Z",
     "shell.execute_reply": "2021-10-01T20:31:45.009353Z",
     "shell.execute_reply.started": "2021-10-01T20:28:41.834021Z"
    },
    "papermill": {
     "duration": 0.076293,
     "end_time": "2021-10-01T20:31:45.009540",
     "exception": false,
     "start_time": "2021-10-01T20:31:44.933247",
     "status": "completed"
    },
    "tags": []
   },
   "outputs": [],
   "source": [
    "X = data.drop('Drug', axis = 1).values\n",
    "y = data['Drug'].values.reshape((-1,1))"
   ]
  },
  {
   "cell_type": "code",
   "execution_count": 31,
   "id": "1f50f661",
   "metadata": {
    "execution": {
     "iopub.execute_input": "2021-10-01T20:31:45.147249Z",
     "iopub.status.busy": "2021-10-01T20:31:45.146620Z",
     "iopub.status.idle": "2021-10-01T20:31:45.156563Z",
     "shell.execute_reply": "2021-10-01T20:31:45.155789Z",
     "shell.execute_reply.started": "2021-10-01T20:28:43.478898Z"
    },
    "papermill": {
     "duration": 0.080028,
     "end_time": "2021-10-01T20:31:45.156759",
     "exception": false,
     "start_time": "2021-10-01T20:31:45.076731",
     "status": "completed"
    },
    "tags": []
   },
   "outputs": [
    {
     "name": "stdout",
     "output_type": "stream",
     "text": [
      "x train shape (160, 7)\n",
      "x test shape  (40, 7)\n",
      "y train shape (160, 1)\n",
      "y test shape  (40, 1)\n"
     ]
    }
   ],
   "source": [
    "X_train, X_test, y_train, y_test = train_test_split(X, y, test_size = 0.2, random_state = 1)\n",
    "print('x train shape {}'.format(X_train.shape))\n",
    "print('x test shape  {}'.format(X_test.shape))\n",
    "print('y train shape {}'.format(y_train.shape))\n",
    "print('y test shape  {}'.format(y_test.shape))"
   ]
  },
  {
   "cell_type": "markdown",
   "id": "bee2bcbb",
   "metadata": {
    "papermill": {
     "duration": 0.068723,
     "end_time": "2021-10-01T20:31:45.294309",
     "exception": false,
     "start_time": "2021-10-01T20:31:45.225586",
     "status": "completed"
    },
    "tags": []
   },
   "source": [
    "# **Logistic Regression**"
   ]
  },
  {
   "cell_type": "code",
   "execution_count": 32,
   "id": "c6a78234",
   "metadata": {
    "execution": {
     "iopub.execute_input": "2021-10-01T20:31:45.436285Z",
     "iopub.status.busy": "2021-10-01T20:31:45.435479Z",
     "iopub.status.idle": "2021-10-01T20:31:45.438587Z",
     "shell.execute_reply": "2021-10-01T20:31:45.438017Z",
     "shell.execute_reply.started": "2021-10-01T20:28:46.195240Z"
    },
    "papermill": {
     "duration": 0.076792,
     "end_time": "2021-10-01T20:31:45.438728",
     "exception": false,
     "start_time": "2021-10-01T20:31:45.361936",
     "status": "completed"
    },
    "tags": []
   },
   "outputs": [],
   "source": [
    "logistic_model = LogisticRegression(C = 2 ,solver = 'liblinear', tol = .001)"
   ]
  },
  {
   "cell_type": "code",
   "execution_count": 33,
   "id": "3f33c119",
   "metadata": {
    "execution": {
     "iopub.execute_input": "2021-10-01T20:31:45.581008Z",
     "iopub.status.busy": "2021-10-01T20:31:45.580332Z",
     "iopub.status.idle": "2021-10-01T20:31:45.594780Z",
     "shell.execute_reply": "2021-10-01T20:31:45.595240Z",
     "shell.execute_reply.started": "2021-10-01T20:28:47.414915Z"
    },
    "papermill": {
     "duration": 0.089591,
     "end_time": "2021-10-01T20:31:45.595428",
     "exception": false,
     "start_time": "2021-10-01T20:31:45.505837",
     "status": "completed"
    },
    "tags": []
   },
   "outputs": [
    {
     "name": "stdout",
     "output_type": "stream",
     "text": [
      "97.5\n",
      "95.0\n",
      "[[17  0  0  0  0]\n",
      " [ 0  4  0  0  0]\n",
      " [ 0  0 13  0  0]\n",
      " [ 1  0  0  2  1]\n",
      " [ 0  0  0  0  2]]\n",
      "              precision    recall  f1-score   support\n",
      "\n",
      "           1       0.94      1.00      0.97        17\n",
      "           2       1.00      1.00      1.00         4\n",
      "           3       1.00      1.00      1.00        13\n",
      "           4       1.00      0.50      0.67         4\n",
      "           5       0.67      1.00      0.80         2\n",
      "\n",
      "    accuracy                           0.95        40\n",
      "   macro avg       0.92      0.90      0.89        40\n",
      "weighted avg       0.96      0.95      0.94        40\n",
      "\n"
     ]
    }
   ],
   "source": [
    "logistic_model.fit(X_train, y_train)\n",
    "y_pred = logistic_model.predict(X_test)\n",
    "print(logistic_model.score(X_train,y_train)*100)\n",
    "logistic_score = accuracy_score(y_test, y_pred)\n",
    "print(logistic_score*100)\n",
    "print(confusion_matrix(y_test, y_pred))\n",
    "print(classification_report(y_test, y_pred))"
   ]
  },
  {
   "cell_type": "markdown",
   "id": "75400d74",
   "metadata": {
    "papermill": {
     "duration": 0.068875,
     "end_time": "2021-10-01T20:31:45.732057",
     "exception": false,
     "start_time": "2021-10-01T20:31:45.663182",
     "status": "completed"
    },
    "tags": []
   },
   "source": [
    "# **KNN classifier**"
   ]
  },
  {
   "cell_type": "code",
   "execution_count": 34,
   "id": "4772d3a9",
   "metadata": {
    "execution": {
     "iopub.execute_input": "2021-10-01T20:31:45.872652Z",
     "iopub.status.busy": "2021-10-01T20:31:45.871711Z",
     "iopub.status.idle": "2021-10-01T20:31:45.874641Z",
     "shell.execute_reply": "2021-10-01T20:31:45.874095Z",
     "shell.execute_reply.started": "2021-10-01T20:29:59.557810Z"
    },
    "papermill": {
     "duration": 0.075097,
     "end_time": "2021-10-01T20:31:45.874794",
     "exception": false,
     "start_time": "2021-10-01T20:31:45.799697",
     "status": "completed"
    },
    "tags": []
   },
   "outputs": [],
   "source": [
    "KNN_class = KNeighborsClassifier(n_neighbors = 3)"
   ]
  },
  {
   "cell_type": "code",
   "execution_count": 35,
   "id": "31d0e407",
   "metadata": {
    "execution": {
     "iopub.execute_input": "2021-10-01T20:31:46.018905Z",
     "iopub.status.busy": "2021-10-01T20:31:46.017953Z",
     "iopub.status.idle": "2021-10-01T20:31:46.031211Z",
     "shell.execute_reply": "2021-10-01T20:31:46.030547Z",
     "shell.execute_reply.started": "2021-10-01T20:30:01.065078Z"
    },
    "papermill": {
     "duration": 0.088737,
     "end_time": "2021-10-01T20:31:46.031352",
     "exception": false,
     "start_time": "2021-10-01T20:31:45.942615",
     "status": "completed"
    },
    "tags": []
   },
   "outputs": [
    {
     "name": "stdout",
     "output_type": "stream",
     "text": [
      "97.5\n",
      "70.0\n",
      "[[16  0  0  0  1]\n",
      " [ 0  2  0  0  2]\n",
      " [ 0  3  6  2  2]\n",
      " [ 1  1  0  2  0]\n",
      " [ 0  0  0  0  2]]\n",
      "              precision    recall  f1-score   support\n",
      "\n",
      "           1       0.94      0.94      0.94        17\n",
      "           2       0.33      0.50      0.40         4\n",
      "           3       1.00      0.46      0.63        13\n",
      "           4       0.50      0.50      0.50         4\n",
      "           5       0.29      1.00      0.44         2\n",
      "\n",
      "    accuracy                           0.70        40\n",
      "   macro avg       0.61      0.68      0.58        40\n",
      "weighted avg       0.82      0.70      0.72        40\n",
      "\n"
     ]
    }
   ],
   "source": [
    "KNN_class.fit(X_train, y_train)\n",
    "y_pred = KNN_class.predict(X_test)\n",
    "print(logistic_model.score(X_train,y_train)*100)\n",
    "KNN_score = accuracy_score(y_test, y_pred)\n",
    "print(KNN_score*100)\n",
    "print(confusion_matrix(y_test, y_pred))\n",
    "print(classification_report(y_test, y_pred))"
   ]
  },
  {
   "cell_type": "markdown",
   "id": "349ffb44",
   "metadata": {
    "papermill": {
     "duration": 0.068864,
     "end_time": "2021-10-01T20:31:46.169734",
     "exception": false,
     "start_time": "2021-10-01T20:31:46.100870",
     "status": "completed"
    },
    "tags": []
   },
   "source": [
    "# **SVM classifier**"
   ]
  },
  {
   "cell_type": "code",
   "execution_count": 36,
   "id": "ebdb52cc",
   "metadata": {
    "execution": {
     "iopub.execute_input": "2021-10-01T20:31:46.313615Z",
     "iopub.status.busy": "2021-10-01T20:31:46.312891Z",
     "iopub.status.idle": "2021-10-01T20:31:46.315960Z",
     "shell.execute_reply": "2021-10-01T20:31:46.316439Z",
     "shell.execute_reply.started": "2021-10-01T20:30:03.329907Z"
    },
    "papermill": {
     "duration": 0.076905,
     "end_time": "2021-10-01T20:31:46.316608",
     "exception": false,
     "start_time": "2021-10-01T20:31:46.239703",
     "status": "completed"
    },
    "tags": []
   },
   "outputs": [],
   "source": [
    "SVC_class = SVC(C = 0.5, kernel = 'linear')"
   ]
  },
  {
   "cell_type": "code",
   "execution_count": 37,
   "id": "4c3eded2",
   "metadata": {
    "execution": {
     "iopub.execute_input": "2021-10-01T20:31:46.458910Z",
     "iopub.status.busy": "2021-10-01T20:31:46.458157Z",
     "iopub.status.idle": "2021-10-01T20:31:46.473423Z",
     "shell.execute_reply": "2021-10-01T20:31:46.474126Z",
     "shell.execute_reply.started": "2021-10-01T20:30:04.740777Z"
    },
    "papermill": {
     "duration": 0.089674,
     "end_time": "2021-10-01T20:31:46.474351",
     "exception": false,
     "start_time": "2021-10-01T20:31:46.384677",
     "status": "completed"
    },
    "tags": []
   },
   "outputs": [
    {
     "name": "stdout",
     "output_type": "stream",
     "text": [
      "100.0\n",
      "100.0\n",
      "[[17  0  0  0  0]\n",
      " [ 0  4  0  0  0]\n",
      " [ 0  0 13  0  0]\n",
      " [ 0  0  0  4  0]\n",
      " [ 0  0  0  0  2]]\n",
      "              precision    recall  f1-score   support\n",
      "\n",
      "           1       1.00      1.00      1.00        17\n",
      "           2       1.00      1.00      1.00         4\n",
      "           3       1.00      1.00      1.00        13\n",
      "           4       1.00      1.00      1.00         4\n",
      "           5       1.00      1.00      1.00         2\n",
      "\n",
      "    accuracy                           1.00        40\n",
      "   macro avg       1.00      1.00      1.00        40\n",
      "weighted avg       1.00      1.00      1.00        40\n",
      "\n"
     ]
    }
   ],
   "source": [
    "SVC_class.fit(X_train,y_train)\n",
    "y_pred = SVC_class.predict(X_test)\n",
    "print(SVC_class.score(X_train,y_train)*100)\n",
    "SVC_score = accuracy_score(y_test, y_pred)\n",
    "print(SVC_score*100)\n",
    "print(confusion_matrix(y_test, y_pred))\n",
    "print(classification_report(y_test, y_pred))"
   ]
  },
  {
   "cell_type": "markdown",
   "id": "c2148489",
   "metadata": {
    "papermill": {
     "duration": 0.06869,
     "end_time": "2021-10-01T20:31:46.613784",
     "exception": false,
     "start_time": "2021-10-01T20:31:46.545094",
     "status": "completed"
    },
    "tags": []
   },
   "source": [
    "# **Decision Tree Classifier**"
   ]
  },
  {
   "cell_type": "code",
   "execution_count": 38,
   "id": "a2af1ed9",
   "metadata": {
    "execution": {
     "iopub.execute_input": "2021-10-01T20:31:46.783594Z",
     "iopub.status.busy": "2021-10-01T20:31:46.782523Z",
     "iopub.status.idle": "2021-10-01T20:31:46.784953Z",
     "shell.execute_reply": "2021-10-01T20:31:46.785618Z",
     "shell.execute_reply.started": "2021-10-01T20:30:06.930047Z"
    },
    "papermill": {
     "duration": 0.099747,
     "end_time": "2021-10-01T20:31:46.785800",
     "exception": false,
     "start_time": "2021-10-01T20:31:46.686053",
     "status": "completed"
    },
    "tags": []
   },
   "outputs": [],
   "source": [
    "tree_class = DecisionTreeClassifier(criterion = 'gini', max_depth = 4, splitter = 'best', random_state = 1)"
   ]
  },
  {
   "cell_type": "code",
   "execution_count": 39,
   "id": "bfb9edde",
   "metadata": {
    "execution": {
     "iopub.execute_input": "2021-10-01T20:31:46.931665Z",
     "iopub.status.busy": "2021-10-01T20:31:46.929982Z",
     "iopub.status.idle": "2021-10-01T20:31:46.941017Z",
     "shell.execute_reply": "2021-10-01T20:31:46.941513Z",
     "shell.execute_reply.started": "2021-10-01T20:30:07.998757Z"
    },
    "papermill": {
     "duration": 0.08684,
     "end_time": "2021-10-01T20:31:46.941691",
     "exception": false,
     "start_time": "2021-10-01T20:31:46.854851",
     "status": "completed"
    },
    "tags": []
   },
   "outputs": [
    {
     "name": "stdout",
     "output_type": "stream",
     "text": [
      "100.0\n",
      "100.0\n",
      "[[17  0  0  0  0]\n",
      " [ 0  4  0  0  0]\n",
      " [ 0  0 13  0  0]\n",
      " [ 0  0  0  4  0]\n",
      " [ 0  0  0  0  2]]\n",
      "              precision    recall  f1-score   support\n",
      "\n",
      "           1       1.00      1.00      1.00        17\n",
      "           2       1.00      1.00      1.00         4\n",
      "           3       1.00      1.00      1.00        13\n",
      "           4       1.00      1.00      1.00         4\n",
      "           5       1.00      1.00      1.00         2\n",
      "\n",
      "    accuracy                           1.00        40\n",
      "   macro avg       1.00      1.00      1.00        40\n",
      "weighted avg       1.00      1.00      1.00        40\n",
      "\n"
     ]
    }
   ],
   "source": [
    "tree_class.fit(X_train, y_train)\n",
    "y_pred = tree_class.predict(X_test)\n",
    "print(tree_class.score(X_train,y_train)*100)\n",
    "tree_score = accuracy_score(y_test, y_pred)\n",
    "print(tree_score*100)\n",
    "print(confusion_matrix(y_test, y_pred))\n",
    "print(classification_report(y_test, y_pred))"
   ]
  },
  {
   "cell_type": "markdown",
   "id": "5c6283a7",
   "metadata": {
    "papermill": {
     "duration": 0.070145,
     "end_time": "2021-10-01T20:31:47.080465",
     "exception": false,
     "start_time": "2021-10-01T20:31:47.010320",
     "status": "completed"
    },
    "tags": []
   },
   "source": [
    "# **Random Forest Classifier**"
   ]
  },
  {
   "cell_type": "code",
   "execution_count": 40,
   "id": "00a7661d",
   "metadata": {
    "execution": {
     "iopub.execute_input": "2021-10-01T20:31:47.223904Z",
     "iopub.status.busy": "2021-10-01T20:31:47.222811Z",
     "iopub.status.idle": "2021-10-01T20:31:47.225223Z",
     "shell.execute_reply": "2021-10-01T20:31:47.225732Z",
     "shell.execute_reply.started": "2021-10-01T20:30:10.458629Z"
    },
    "papermill": {
     "duration": 0.076604,
     "end_time": "2021-10-01T20:31:47.225905",
     "exception": false,
     "start_time": "2021-10-01T20:31:47.149301",
     "status": "completed"
    },
    "tags": []
   },
   "outputs": [],
   "source": [
    "Random_class = RandomForestClassifier(n_estimators=200, criterion='gini', max_depth=4, random_state = 1)"
   ]
  },
  {
   "cell_type": "code",
   "execution_count": 41,
   "id": "75aebc3f",
   "metadata": {
    "execution": {
     "iopub.execute_input": "2021-10-01T20:31:47.398152Z",
     "iopub.status.busy": "2021-10-01T20:31:47.387720Z",
     "iopub.status.idle": "2021-10-01T20:31:47.785705Z",
     "shell.execute_reply": "2021-10-01T20:31:47.784957Z",
     "shell.execute_reply.started": "2021-10-01T20:30:11.536225Z"
    },
    "papermill": {
     "duration": 0.489223,
     "end_time": "2021-10-01T20:31:47.785865",
     "exception": false,
     "start_time": "2021-10-01T20:31:47.296642",
     "status": "completed"
    },
    "tags": []
   },
   "outputs": [
    {
     "name": "stdout",
     "output_type": "stream",
     "text": [
      "100.0\n",
      "100.0\n",
      "[[17  0  0  0  0]\n",
      " [ 0  4  0  0  0]\n",
      " [ 0  0 13  0  0]\n",
      " [ 0  0  0  4  0]\n",
      " [ 0  0  0  0  2]]\n",
      "              precision    recall  f1-score   support\n",
      "\n",
      "           1       1.00      1.00      1.00        17\n",
      "           2       1.00      1.00      1.00         4\n",
      "           3       1.00      1.00      1.00        13\n",
      "           4       1.00      1.00      1.00         4\n",
      "           5       1.00      1.00      1.00         2\n",
      "\n",
      "    accuracy                           1.00        40\n",
      "   macro avg       1.00      1.00      1.00        40\n",
      "weighted avg       1.00      1.00      1.00        40\n",
      "\n"
     ]
    }
   ],
   "source": [
    "Random_class.fit(X_train, y_train)\n",
    "y_pred = Random_class.predict(X_test)\n",
    "print(Random_class.score(X_train,y_train)*100)\n",
    "Forest_score = accuracy_score(y_test, y_pred)\n",
    "print(Forest_score*100)\n",
    "print(confusion_matrix(y_test, y_pred))\n",
    "print(classification_report(y_test, y_pred))"
   ]
  },
  {
   "cell_type": "markdown",
   "id": "ff8ccb31",
   "metadata": {
    "papermill": {
     "duration": 0.070815,
     "end_time": "2021-10-01T20:31:47.927069",
     "exception": false,
     "start_time": "2021-10-01T20:31:47.856254",
     "status": "completed"
    },
    "tags": []
   },
   "source": [
    "# **scaler data**"
   ]
  },
  {
   "cell_type": "code",
   "execution_count": 42,
   "id": "492b2503",
   "metadata": {
    "execution": {
     "iopub.execute_input": "2021-10-01T20:31:48.071149Z",
     "iopub.status.busy": "2021-10-01T20:31:48.069673Z",
     "iopub.status.idle": "2021-10-01T20:31:48.073561Z",
     "shell.execute_reply": "2021-10-01T20:31:48.072977Z",
     "shell.execute_reply.started": "2021-10-01T20:30:13.929165Z"
    },
    "papermill": {
     "duration": 0.077515,
     "end_time": "2021-10-01T20:31:48.073708",
     "exception": false,
     "start_time": "2021-10-01T20:31:47.996193",
     "status": "completed"
    },
    "tags": []
   },
   "outputs": [],
   "source": [
    "poly_feat = PolynomialFeatures()"
   ]
  },
  {
   "cell_type": "code",
   "execution_count": 43,
   "id": "f2249a75",
   "metadata": {
    "execution": {
     "iopub.execute_input": "2021-10-01T20:31:48.225818Z",
     "iopub.status.busy": "2021-10-01T20:31:48.224880Z",
     "iopub.status.idle": "2021-10-01T20:31:48.227959Z",
     "shell.execute_reply": "2021-10-01T20:31:48.227445Z",
     "shell.execute_reply.started": "2021-10-01T20:30:14.889681Z"
    },
    "papermill": {
     "duration": 0.081965,
     "end_time": "2021-10-01T20:31:48.228091",
     "exception": false,
     "start_time": "2021-10-01T20:31:48.146126",
     "status": "completed"
    },
    "tags": []
   },
   "outputs": [],
   "source": [
    "X_poly_train = poly_feat.fit_transform(X_train)\n",
    "X_poly_test = poly_feat.fit_transform(X_test)"
   ]
  },
  {
   "cell_type": "markdown",
   "id": "476ab9eb",
   "metadata": {
    "papermill": {
     "duration": 0.06889,
     "end_time": "2021-10-01T20:31:48.366097",
     "exception": false,
     "start_time": "2021-10-01T20:31:48.297207",
     "status": "completed"
    },
    "tags": []
   },
   "source": [
    "# **Logistic regrassion after scaler**"
   ]
  },
  {
   "cell_type": "code",
   "execution_count": 44,
   "id": "0bcd9f6f",
   "metadata": {
    "execution": {
     "iopub.execute_input": "2021-10-01T20:31:48.509655Z",
     "iopub.status.busy": "2021-10-01T20:31:48.507851Z",
     "iopub.status.idle": "2021-10-01T20:31:48.512499Z",
     "shell.execute_reply": "2021-10-01T20:31:48.511965Z",
     "shell.execute_reply.started": "2021-10-01T20:30:16.816780Z"
    },
    "papermill": {
     "duration": 0.076456,
     "end_time": "2021-10-01T20:31:48.512643",
     "exception": false,
     "start_time": "2021-10-01T20:31:48.436187",
     "status": "completed"
    },
    "tags": []
   },
   "outputs": [],
   "source": [
    "logistic_model_2 = LogisticRegression(solver = 'liblinear')"
   ]
  },
  {
   "cell_type": "code",
   "execution_count": 45,
   "id": "9a6c7167",
   "metadata": {
    "execution": {
     "iopub.execute_input": "2021-10-01T20:31:48.657037Z",
     "iopub.status.busy": "2021-10-01T20:31:48.656335Z",
     "iopub.status.idle": "2021-10-01T20:31:48.672644Z",
     "shell.execute_reply": "2021-10-01T20:31:48.673140Z",
     "shell.execute_reply.started": "2021-10-01T20:30:17.832769Z"
    },
    "papermill": {
     "duration": 0.091718,
     "end_time": "2021-10-01T20:31:48.673308",
     "exception": false,
     "start_time": "2021-10-01T20:31:48.581590",
     "status": "completed"
    },
    "tags": []
   },
   "outputs": [
    {
     "name": "stdout",
     "output_type": "stream",
     "text": [
      "100.0\n",
      "100.0\n",
      "[[17  0  0  0  0]\n",
      " [ 0  4  0  0  0]\n",
      " [ 1  0 12  0  0]\n",
      " [ 0  0  0  4  0]\n",
      " [ 0  0  0  0  2]]\n",
      "              precision    recall  f1-score   support\n",
      "\n",
      "           1       0.94      1.00      0.97        17\n",
      "           2       1.00      1.00      1.00         4\n",
      "           3       1.00      0.92      0.96        13\n",
      "           4       1.00      1.00      1.00         4\n",
      "           5       1.00      1.00      1.00         2\n",
      "\n",
      "    accuracy                           0.97        40\n",
      "   macro avg       0.99      0.98      0.99        40\n",
      "weighted avg       0.98      0.97      0.97        40\n",
      "\n"
     ]
    }
   ],
   "source": [
    "logistic_model_2.fit(X_poly_train,y_train)\n",
    "y_pred = logistic_model_2.predict(X_poly_test)\n",
    "print(logistic_model_2.score(X_poly_train,y_train)*100)\n",
    "second_logistic_score = accuracy_score(y_test, y_pred)\n",
    "print(SVC_score*100)\n",
    "print(confusion_matrix(y_test, y_pred))\n",
    "print(classification_report(y_test, y_pred))"
   ]
  },
  {
   "cell_type": "markdown",
   "id": "e3ae7e70",
   "metadata": {
    "papermill": {
     "duration": 0.069497,
     "end_time": "2021-10-01T20:31:48.812154",
     "exception": false,
     "start_time": "2021-10-01T20:31:48.742657",
     "status": "completed"
    },
    "tags": []
   },
   "source": [
    "# **accurecy fig**\n",
    "**We will built a fig for the algorithms accurecy which are used**"
   ]
  },
  {
   "cell_type": "code",
   "execution_count": 46,
   "id": "5c4cf76f",
   "metadata": {
    "execution": {
     "iopub.execute_input": "2021-10-01T20:31:48.957957Z",
     "iopub.status.busy": "2021-10-01T20:31:48.957279Z",
     "iopub.status.idle": "2021-10-01T20:31:48.959626Z",
     "shell.execute_reply": "2021-10-01T20:31:48.959048Z",
     "shell.execute_reply.started": "2021-10-01T20:30:19.623207Z"
    },
    "papermill": {
     "duration": 0.077286,
     "end_time": "2021-10-01T20:31:48.959766",
     "exception": false,
     "start_time": "2021-10-01T20:31:48.882480",
     "status": "completed"
    },
    "tags": []
   },
   "outputs": [],
   "source": [
    "x = ['logistic_score', 'KNN_score', 'SVC_score', 'tree_score', 'Forest_score', 'second_logistic_score']\n",
    "y = [logistic_score, KNN_score, SVC_score, tree_score, Forest_score, second_logistic_score]"
   ]
  },
  {
   "cell_type": "code",
   "execution_count": 47,
   "id": "4ed65426",
   "metadata": {
    "execution": {
     "iopub.execute_input": "2021-10-01T20:31:49.126125Z",
     "iopub.status.busy": "2021-10-01T20:31:49.117096Z",
     "iopub.status.idle": "2021-10-01T20:31:49.350754Z",
     "shell.execute_reply": "2021-10-01T20:31:49.350092Z",
     "shell.execute_reply.started": "2021-10-01T20:30:20.624630Z"
    },
    "papermill": {
     "duration": 0.321179,
     "end_time": "2021-10-01T20:31:49.350895",
     "exception": false,
     "start_time": "2021-10-01T20:31:49.029716",
     "status": "completed"
    },
    "tags": []
   },
   "outputs": [
    {
     "data": {
      "text/plain": [
       "Text(0.5, 1.03, 'Model Comparison - Model Accuracy')"
      ]
     },
     "execution_count": 47,
     "metadata": {},
     "output_type": "execute_result"
    },
    {
     "data": {
      "image/png": "[encoded data removed]",
      "text/plain": [
       "<Figure size 432x288 with 1 Axes>"
      ]
     },
     "metadata": {
      "needs_background": "light"
     },
     "output_type": "display_data"
    }
   ],
   "source": [
    "sns.barplot(x = x, y = y)\n",
    "plt.ylabel('model accurecy')\n",
    "plt.xlabel('models name')\n",
    "plt.xticks(rotation = 30)\n",
    "plt.title(\"Model Comparison - Model Accuracy\", fontsize=15, fontname=\"Helvetica\", y=1.03)"
   ]
  }
 ],
 "metadata": {
  "kernelspec": {
   "display_name": "Python 3",
   "language": "python",
   "name": "python3"
  },
  "language_info": {
   "codemirror_mode": {
    "name": "ipython",
    "version": 3
   },
   "file_extension": ".py",
   "mimetype": "text/x-python",
   "name": "python",
   "nbconvert_exporter": "python",
   "pygments_lexer": "ipython3",
   "version": "3.7.10"
  },
  "papermill": {
   "default_parameters": {},
   "duration": 23.593533,
   "end_time": "2021-10-01T20:31:50.134218",
   "environment_variables": {},
   "exception": null,
   "input_path": "__notebook__.ipynb",
   "output_path": "__notebook__.ipynb",
   "parameters": {},
   "start_time": "2021-10-01T20:31:26.540685",
   "version": "2.3.3"
  }
 },
 "nbformat": 4,
 "nbformat_minor": 5
}
